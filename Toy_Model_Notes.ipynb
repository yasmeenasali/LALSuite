{
 "cells": [
  {
   "cell_type": "markdown",
   "metadata": {},
   "source": [
    "<a id='r-mode-eco'></a>\n",
    "# r-modes for Exotic Compact Objects\n",
    "\n",
    "6/18/19 Group Update\n",
    "\n",
    "## Implementation in LALSuite\n",
    "\n",
    "R-modes have been added to the following files: \n",
    "\n",
    "LALSimulation:\n",
    "- LALSimIMRPhenomD.c\n",
    "- LALSimInspiralWaveformParams.c\n",
    "- LALSimInspiralWaveformParams.h\n",
    "\n",
    "LALInference:\n",
    "- LALInference.c\n",
    "- LALInference.h\n",
    "- LALInferenceInitCBC.c\n",
    "- LALInferenceTemplate.c\n",
    "- LALInferenceReadData.c\n",
    "\n",
    "![phase_shift_exg](imgs/phase_shift_exg.png)"
   ]
  },
  {
   "cell_type": "markdown",
   "metadata": {},
   "source": [
    "## Toy model\n",
    "\n",
    "We assume a toy model for a bbh mass object as an infinitely thin shell of matter so that we do not have to sample over any new parameters but can still test whether r-modes are detectable. For this idealized case we can make some assumptions to maximize the frequency and phase shift so that we can set an upper bound on how large r-mode effects can be. \n",
    "\n",
    "### Frequency Constraint\n",
    "\n",
    "Solving for $\\omega$:    \n",
    "\n",
    "$$ \\omega = \\frac{4}{3}\\frac{M^{2}a}{I} $$\n",
    "\n",
    "$$ I = \\frac{8}{3}M^{3} $$\n",
    "\n",
    "$$ \\omega = \\frac{4}{3}M^{2}a \\frac{3}{8M^{3}} $$\n",
    "\n",
    "$$ \\omega = \\frac{4}{3}a \\frac{3}{8M} $$\n",
    "\n",
    "$$ \\omega = \\frac{a}{2M} $$\n",
    "\n",
    "Since $ \\omega = 2\\pi f_{0} $:\n",
    "\n",
    "$$ f_{0} = \\frac{\\omega}{2\\pi} $$\n",
    "\n",
    "$$ \\boxed{ f_{0} = \\frac{a}{4\\pi M} }$$\n",
    "\n",
    "So we can use the above equation to constraint the value of the frequency given two paramters that are already sampled over, spin and mass.\n"
   ]
  },
  {
   "cell_type": "markdown",
   "metadata": {},
   "source": [
    "### Phase Constraint\n",
    "\n",
    "Similarly for phase, we can use the following equation for the phase difference of the 22 mode:\n",
    "\n",
    "$$ \\Delta \\phi_{22} = - \\frac{5\\pi^{2}}{192} \\big( \\frac{4}{3} \\big)^{\\frac{2}{3}} I_{22}^{2} \\sin^{2}(\\psi) \\cos^{4}(\\frac{\\psi}{2}) \\frac{\\Omega^{\\frac{2}{3}} R^{4}}{M^{\\prime}M^{2}M_{t}^{\\frac{1}{3}}}$$\n",
    "\n",
    "The first simplification we make is by choosing a maximum value for the function $\\sin^{2}(\\psi) \\cos^{4}(\\frac{\\psi}{2})$. Letting the tilt $\\psi$ range from 0 to $\\pi$, we can see the maximum is approximately 0.42, so we can input this factor into the equation for $\\Delta\\phi_{22}$\n",
    "\n",
    "![tilt](imgs/max_tilt.png)\n"
   ]
  },
  {
   "cell_type": "markdown",
   "metadata": {},
   "source": [
    "This makes our equation into: \n",
    "\n",
    "$$ \\Delta \\phi_{22} = - \\frac{5\\pi^{2}}{192} \\big( \\frac{4}{3} \\big)^{\\frac{2}{3}} I_{22}^{2} T \\frac{\\Omega^{\\frac{2}{3}} R^{4}}{M^{\\prime}M^{2}M_{t}^{\\frac{1}{3}}}$$\n",
    "\n",
    "where $ T = 0.421875 $\n",
    "\n",
    "We can also simplify $ I_{22}$ using our model of an infinitely thin shell so that $ \\rho(r) = M \\delta^{3}(r-R) $.\n",
    "\n",
    "$$ I_{22} = \\Big[ \\frac{1}{MR^{4}} \\int_{0}^{R} \\rho(r) r^{6} dr \\Big]^{\\frac{1}{2}} $$\n",
    "\n",
    "$$ I_{22} = \\Big[ \\frac{1}{MR^{4}} \\int_{0}^{R} M \\delta^{3}(r-R) r^{4} r^{2} dr \\Big]^{\\frac{1}{2}} $$\n",
    "\n",
    "$$ I_{22} = \\Big[ \\frac{1}{MR^{4}} \\frac{MR^{4}}{4\\pi} \\Big]^{\\frac{1}{2}} $$\n",
    "\n",
    "$$ I_{22} = \\frac{1}{\\sqrt{4\\pi}} $$\n",
    "\n",
    "Furthermore, we can replace $ \\Omega $ in terms of mass and spin and plug in the moment of inertia from above, $ I = \\frac{8}{3}M^{3} $: \n",
    "\n",
    "$$ \\Omega = \\frac{M^{2}a}{I} $$\n",
    "\n",
    "$$ \\Omega = \\frac{3}{8}\\frac{M^{2}a}{M^{3}} $$\n",
    "\n",
    "$$ \\Omega = \\frac{3}{8}\\frac{a}{M} $$\n",
    "\n",
    "Finally, rewriting $ R = 2M $ and simplifying: \n",
    "\n",
    "$$ \\Delta \\phi_{22} = - \\frac{5\\pi^{2}}{192} \\big( \\frac{4}{3} \\big)^{\\frac{2}{3}} \\frac{1}{4 \\pi} T \\frac{(\\frac{3}{8}\\frac{a}{M})^{\\frac{2}{3}} (2M)^{4}}{M^{\\prime}M^{2}M_{t}^{\\frac{1}{3}}}$$\n",
    "\n",
    "\n",
    "$$ \\Delta \\phi_{22} = - \\frac{5\\pi^{2}}{192} \\big( \\frac{4}{3} \\big)^{\\frac{2}{3}} \\frac{1}{4 \\pi} T \\frac{(\\frac{3}{8}a)^{\\frac{2}{3}} 16 M^{\\frac{4}{3}}}{M^{\\prime}M_{t}^{\\frac{1}{3}}}$$\n",
    "\n",
    "\n",
    "$$ \\Delta \\phi_{22} = - \\frac{5\\pi^{2}}{192} (\\frac{16}{2})^{\\frac{2}{3}} \\frac{1}{4 \\pi} T \\frac{a^{\\frac{2}{3}} M^{\\frac{4}{3}}}{M^{\\prime}M_{t}^{\\frac{1}{3}}}$$\n",
    "\n",
    "\n",
    "$$ \\boxed { \\Delta \\phi_{22} = - \\frac{5\\pi}{768} (8)^{\\frac{2}{3}} T  \\frac{ a^{\\frac{2}{3}} M^{\\frac{4}{3}}}{M^{\\prime}(M^{\\prime} + M)^{\\frac{1}{3}}} } $$\n",
    "\n",
    "So $\\Delta\\phi_{22}$ can be expressed as a function of the masses and spin. \n"
   ]
  },
  {
   "cell_type": "markdown",
   "metadata": {},
   "source": [
    "## Testing with Realistic Values:\n",
    "\n",
    "We can see the two waveforms diverge, so the shift in phase may be large enough to detect.\n",
    "\n",
    "![phase_shift](imgs/phase_shift.png)"
   ]
  },
  {
   "cell_type": "markdown",
   "metadata": {},
   "source": [
    "## Bayes Factor\n",
    "\n",
    "The Bayes Factor gives the likelihood of one hypothesis relative to another. Using this, we can quantify the likelihood of the r-mode hypothesis relative to the no r-mode hypothesis as $ \\log(B^{R}_{\\bar{R}}) $. We can compare the distributions of 'background' and 'foreground'. The 'background' signifies the distribution in the case were no r-modes were injected so the no r-mode hypothesis should be favored and thus the log bayes factor should be less than 0. Similarly, the 'foreground' is the case where r-modes are injected into the data, so the r-mode hypothesis should be favored in recovery and thus the log bayes factor should be greater than 0. Specifically, the fraction of this distribution above 0 is the efficiency. \n",
    "\n",
    "Currently, four jobs are running so we can construct these distributions:\n",
    "```bash\n",
    "# Injecting r-modes, Recovering r-modes\n",
    "lalinference_pipe -I injections/bbh_injection.xml -r toy_model/inj_rmode/rec_rmode config/config_template_inj_rmode_rec_rmode.ini --condor-submit\n",
    "\n",
    "# Injecting r-modes, Not recovering r-modes\n",
    "lalinference_pipe -I injections/bbh_injection.xml -r toy_model/inj_rmode/rec_no_rmode config/config_template_inj_rmode_rec_no_rmode.ini --condor-submit\n",
    "\n",
    "# Not injecting r-modes, Recovering r-modes\n",
    "lalinference_pipe -I injections/bbh_injection.xml -r toy_model/inj_no_rmode/rec_rmode config/config_template_inj_no_rmode_rec_rmode.ini --condor-submit\n",
    "\n",
    "# Not injecting r-modes, Not recovering r-modes\n",
    "lalinference_pipe -I injections/bbh_injection.xml -r toy_model/inj_no_rmode/rec_no_rmode config/config_template_inj_no_rmode_rec_no_rmode.ini --condor-submit\n",
    "```"
   ]
  },
  {
   "cell_type": "markdown",
   "metadata": {},
   "source": [
    "## Results from Spin Squared Run\n",
    "\n",
    "Originally, I made a mistake in the implementation of $\\Delta \\phi_{22}$ in lalinference by squaring the spin term in the equation. Although the formula was wrong, the results can be found [here](https://ldas-jobs.ligo-wa.caltech.edu/~yasmeen.asali/rmode_posterior_plots/toy_model_spin_sq/)"
   ]
  }
 ],
 "metadata": {
  "kernelspec": {
   "display_name": "Python 3",
   "language": "python",
   "name": "python3"
  },
  "language_info": {
   "codemirror_mode": {
    "name": "ipython",
    "version": 3
   },
   "file_extension": ".py",
   "mimetype": "text/x-python",
   "name": "python",
   "nbconvert_exporter": "python",
   "pygments_lexer": "ipython3",
   "version": "3.7.1"
  }
 },
 "nbformat": 4,
 "nbformat_minor": 2
}
